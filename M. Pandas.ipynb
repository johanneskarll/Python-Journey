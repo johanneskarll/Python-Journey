{
 "cells": [
  {
   "cell_type": "markdown",
   "metadata": {},
   "source": [
    "# **Module Pandas (Panel Data / Python Data Analysis)**\n",
    "Module dari luar python dan harus diinstall terlebih dahulu pip install pandas. Module ini membantu kita dalam hal memanage data, memanipulasi data, dll. Module ini lebih kompleks dari pada csv biasa\n",
    "\n",
    "link documentation pandas : https://pandas.pydata.org/docs/reference/io.html."
   ]
  },
  {
   "cell_type": "markdown",
   "metadata": {},
   "source": [
    "Every single colomn is a Series (1-dimensional) kinda like a list sementara DataFrame (2-dimensional) adalah gabungan dari beberapa series"
   ]
  },
  {
   "cell_type": "markdown",
   "metadata": {},
   "source": [
    "<hr></hr>\n",
    "\n",
    "## **Pembacaan dan Penulisan data**\n",
    "Pandas menyediakan fungsi-fungsi untuk membaca dan menulis data dari berbagai format file, seperti CSV, Excel, dan XML.\n",
    "Contoh:\n",
    "- `pd.read_csv()`: Membaca data dari file CSV.\n",
    "- `pd.read_excel()`: Membaca data dari file Excel.\n",
    "- `pd.read_xml()`: Membaca data dari file XML."
   ]
  },
  {
   "cell_type": "code",
   "execution_count": 1,
   "metadata": {},
   "outputs": [
    {
     "data": {
      "text/html": [
       "<div>\n",
       "<style scoped>\n",
       "    .dataframe tbody tr th:only-of-type {\n",
       "        vertical-align: middle;\n",
       "    }\n",
       "\n",
       "    .dataframe tbody tr th {\n",
       "        vertical-align: top;\n",
       "    }\n",
       "\n",
       "    .dataframe thead th {\n",
       "        text-align: right;\n",
       "    }\n",
       "</style>\n",
       "<table border=\"1\" class=\"dataframe\">\n",
       "  <thead>\n",
       "    <tr style=\"text-align: right;\">\n",
       "      <th></th>\n",
       "      <th>day</th>\n",
       "      <th>temp</th>\n",
       "      <th>condition</th>\n",
       "    </tr>\n",
       "  </thead>\n",
       "  <tbody>\n",
       "    <tr>\n",
       "      <th>0</th>\n",
       "      <td>Monday</td>\n",
       "      <td>12</td>\n",
       "      <td>Sunny</td>\n",
       "    </tr>\n",
       "    <tr>\n",
       "      <th>1</th>\n",
       "      <td>Tuesday</td>\n",
       "      <td>14</td>\n",
       "      <td>Rain</td>\n",
       "    </tr>\n",
       "    <tr>\n",
       "      <th>2</th>\n",
       "      <td>Wednesday</td>\n",
       "      <td>15</td>\n",
       "      <td>Rain</td>\n",
       "    </tr>\n",
       "    <tr>\n",
       "      <th>3</th>\n",
       "      <td>Thursday</td>\n",
       "      <td>14</td>\n",
       "      <td>Cloudy</td>\n",
       "    </tr>\n",
       "    <tr>\n",
       "      <th>4</th>\n",
       "      <td>Friday</td>\n",
       "      <td>21</td>\n",
       "      <td>Sunny</td>\n",
       "    </tr>\n",
       "    <tr>\n",
       "      <th>5</th>\n",
       "      <td>Saturday</td>\n",
       "      <td>22</td>\n",
       "      <td>Sunny</td>\n",
       "    </tr>\n",
       "    <tr>\n",
       "      <th>6</th>\n",
       "      <td>Sunday</td>\n",
       "      <td>24</td>\n",
       "      <td>Sunny</td>\n",
       "    </tr>\n",
       "  </tbody>\n",
       "</table>\n",
       "</div>"
      ],
      "text/plain": [
       "         day  temp condition\n",
       "0     Monday    12     Sunny\n",
       "1    Tuesday    14      Rain\n",
       "2  Wednesday    15      Rain\n",
       "3   Thursday    14    Cloudy\n",
       "4     Friday    21     Sunny\n",
       "5   Saturday    22     Sunny\n",
       "6     Sunday    24     Sunny"
      ]
     },
     "execution_count": 1,
     "metadata": {},
     "output_type": "execute_result"
    }
   ],
   "source": [
    "import pandas as pd\n",
    "data = pd.read_csv(\"wd_for_notes.csv\")\n",
    "# pd.read_excel()\n",
    "# pd.read_xml()\n",
    "data"
   ]
  },
  {
   "cell_type": "markdown",
   "metadata": {},
   "source": [
    "Data diatas berupada DataFrame \n",
    "\n",
    "Selain bisa membaca, kita juga bisa membuat csv menggunakan pandas\n",
    "list -> dictionary -> dataframe -> to_csv()\n",
    "- `to_csv()`: Membaca data dari file XML."
   ]
  },
  {
   "cell_type": "code",
   "execution_count": null,
   "metadata": {},
   "outputs": [],
   "source": [
    "student_scores_dict = {\n",
    "\"students\" : [\"Amy\", \"James\", \"Angela\"],\n",
    "\"scores\" : [76,65,56] }\n",
    "\n",
    "data = pd.DataFrame(student_scores_dict) # jadiin dataframe dulu baru bisa jadi file baru\n",
    "data.to_csv(\"path/to/file/new_data.csv\") # ini akan membuat file baru dengan data yang sudah kita buat dari python"
   ]
  },
  {
   "cell_type": "markdown",
   "metadata": {},
   "source": [
    "<hr></hr>\n",
    "\n",
    "## **Operasi Dasar**\n",
    "### Mengakses kolom\n",
    "`data['temp']` atau `data.temp`hanya mengakses kolom temp dan typenya disini berubah menjadi series"
   ]
  },
  {
   "cell_type": "code",
   "execution_count": 6,
   "metadata": {},
   "outputs": [
    {
     "data": {
      "text/plain": [
       "0    12\n",
       "1    14\n",
       "2    15\n",
       "3    14\n",
       "4    21\n",
       "5    22\n",
       "6    24\n",
       "Name: temp, dtype: int64"
      ]
     },
     "execution_count": 6,
     "metadata": {},
     "output_type": "execute_result"
    }
   ],
   "source": [
    "data['temp']"
   ]
  },
  {
   "cell_type": "markdown",
   "metadata": {},
   "source": [
    "### Mengecek ada yang bolong (Missing Values and Junk Data)\n",
    "`df.isna()` method untuk memberi tahu apakah ada cell yang memiliki data NaN (Not A Number) values. dan ktia bisa menghapusnya dengan `df.dropna()` "
   ]
  },
  {
   "cell_type": "markdown",
   "metadata": {},
   "source": [
    "### Menggunakan kondisi\n",
    "`Monday = data[data.day == \"Monday\"]` hanya mengeluarkan baris dimana kita sudah menspesifikasikan harinya."
   ]
  },
  {
   "cell_type": "code",
   "execution_count": 12,
   "metadata": {},
   "outputs": [
    {
     "name": "stdout",
     "output_type": "stream",
     "text": [
      "      day  temp condition\n",
      "0  Monday    12     Sunny\n"
     ]
    },
    {
     "data": {
      "text/plain": [
       "pandas.core.frame.DataFrame"
      ]
     },
     "execution_count": 12,
     "metadata": {},
     "output_type": "execute_result"
    }
   ],
   "source": [
    "Monday = data[data.day == \"Monday\"]\n",
    "print(Monday)\n",
    "type(Monday)"
   ]
  },
  {
   "cell_type": "markdown",
   "metadata": {},
   "source": [
    "Typenya disini tetap DataFrame karena tetap berupa gabungan dari beberapa series.\n",
    "\n",
    "### Menggunakan `DataFrame.loc` dan `DataFrame.iloc`\n",
    "dataframe yang lebih kompleks dapat menggunakan syntax ini\n",
    "- loc digunakan ketika kita mengambil by label \n",
    "- iloc digunakan ketika kita mengambil by index\n",
    "\n",
    "> index akan dibahas dibagian lainnya pada dokumen ini."
   ]
  },
  {
   "cell_type": "code",
   "execution_count": 16,
   "metadata": {},
   "outputs": [
    {
     "name": "stdout",
     "output_type": "stream",
     "text": [
      "max_speed    4\n",
      "shield       5\n",
      "Name: viper, dtype: int64\n",
      "max_speed    4\n",
      "shield       5\n",
      "Name: viper, dtype: int64\n"
     ]
    }
   ],
   "source": [
    "import pandas as pd\n",
    "df = pd.DataFrame([[1, 2], [4, 5], [7, 8]],\n",
    "                  index=['cobra', 'viper', 'sidewinder'],\n",
    "                  columns=['max_speed', 'shield'])\n",
    "print(df.iloc[1])\n",
    "print(df.loc['viper'])"
   ]
  },
  {
   "cell_type": "markdown",
   "metadata": {},
   "source": [
    "### Konversi Data\n",
    "- `to_dict()` karena kita sudah membaca csv menggunakan pandas kita dapat mengconvertnya menjadi DataFrame -> dictionary menggunakan to_dict() \n",
    "- `to_list()` dari Series -> list \n",
    "    "
   ]
  },
  {
   "cell_type": "code",
   "execution_count": 24,
   "metadata": {},
   "outputs": [
    {
     "name": "stdout",
     "output_type": "stream",
     "text": [
      "{'day': {0: 'Monday', 1: 'Tuesday', 2: 'Wednesday', 3: 'Thursday', 4: 'Friday', 5: 'Saturday', 6: 'Sunday'}, 'temp': {0: 12, 1: 14, 2: 15, 3: 14, 4: 21, 5: 22, 6: 24}, 'condition': {0: 'Sunny', 1: 'Rain', 2: 'Rain', 3: 'Cloudy', 4: 'Sunny', 5: 'Sunny', 6: 'Sunny'}}\n"
     ]
    }
   ],
   "source": [
    "data_dict = data.to_dict() \n",
    "print(data_dict)"
   ]
  },
  {
   "cell_type": "markdown",
   "metadata": {},
   "source": [
    "kita bisa customized bagaimana keyvalue pairnya dengan menggunakan orient pilihannya: 'dict', 'list', 'series', 'split', 'records', 'index'\n",
    "                    "
   ]
  },
  {
   "cell_type": "code",
   "execution_count": 25,
   "metadata": {},
   "outputs": [
    {
     "name": "stdout",
     "output_type": "stream",
     "text": [
      "{0: {'day': 'Monday', 'temp': 12, 'condition': 'Sunny'}, 1: {'day': 'Tuesday', 'temp': 14, 'condition': 'Rain'}, 2: {'day': 'Wednesday', 'temp': 15, 'condition': 'Rain'}, 3: {'day': 'Thursday', 'temp': 14, 'condition': 'Cloudy'}, 4: {'day': 'Friday', 'temp': 21, 'condition': 'Sunny'}, 5: {'day': 'Saturday', 'temp': 22, 'condition': 'Sunny'}, 6: {'day': 'Sunday', 'temp': 24, 'condition': 'Sunny'}}\n"
     ]
    }
   ],
   "source": [
    "data_dict = data.to_dict(orient=\"index\") \n",
    "print(data_dict)"
   ]
  },
  {
   "cell_type": "code",
   "execution_count": 4,
   "metadata": {},
   "outputs": [
    {
     "name": "stdout",
     "output_type": "stream",
     "text": [
      "[12, 14, 15, 14, 21, 22, 24]\n"
     ]
    }
   ],
   "source": [
    "temp_list = data[\"temp\"].to_list()\n",
    "print(temp_list)"
   ]
  },
  {
   "cell_type": "markdown",
   "metadata": {},
   "source": [
    "<hr></hr>\n",
    "\n",
    "## **Pemrosesan Data**"
   ]
  },
  {
   "cell_type": "markdown",
   "metadata": {},
   "source": [
    "### Indexing"
   ]
  },
  {
   "cell_type": "code",
   "execution_count": 34,
   "metadata": {},
   "outputs": [],
   "source": [
    "people = {\n",
    "    \"first\": [\"Corey\", 'Jane', 'John'], \n",
    "    \"last\": [\"Schafer\", 'Doe', 'Doe'], \n",
    "    \"email\": [\"CoreyMSchafer@gmail.com\", 'JaneDoe@email.com', 'JohnDoe@email.com']\n",
    "}"
   ]
  },
  {
   "cell_type": "code",
   "execution_count": 32,
   "metadata": {},
   "outputs": [
    {
     "name": "stdout",
     "output_type": "stream",
     "text": [
      "   first     last                    email\n",
      "0  Corey  Schafer  CoreyMSchafer@gmail.com\n",
      "1   Jane      Doe        JaneDoe@email.com\n",
      "2   John      Doe        JohnDoe@email.com\n",
      "\n",
      "\n",
      "first                 Jane\n",
      "last                   Doe\n",
      "email    JaneDoe@email.com\n",
      "Name: 1, dtype: object\n",
      "RangeIndex(start=0, stop=3, step=1)\n"
     ]
    }
   ],
   "source": [
    "import pandas as pd \n",
    "df = pd.DataFrame(people)\n",
    "print(df)\n",
    "print(\"\\n\")\n",
    "print(df.iloc[1])\n",
    "print(df.index)"
   ]
  },
  {
   "cell_type": "code",
   "execution_count": 38,
   "metadata": {},
   "outputs": [
    {
     "name": "stdout",
     "output_type": "stream",
     "text": [
      "                         first     last\n",
      "email                                  \n",
      "CoreyMSchafer@gmail.com  Corey  Schafer\n",
      "JaneDoe@email.com         Jane      Doe\n",
      "JohnDoe@email.com         John      Doe\n",
      "\n",
      "\n",
      "first    Jane\n",
      "last      Doe\n",
      "Name: JaneDoe@email.com, dtype: object\n",
      "Index(['CoreyMSchafer@gmail.com', 'JaneDoe@email.com', 'JohnDoe@email.com'], dtype='object', name='email')\n"
     ]
    }
   ],
   "source": [
    "dfic = pd.DataFrame(people) # ini kita ganti indexnya menjadi email unique, ic = index change\n",
    "dfic.set_index('email', inplace=True)\n",
    "dfic.sort_index() # mengurutkan indexnya\n",
    "print(dfic)\n",
    "print(\"\\n\")\n",
    "print(dfic.iloc[1])\n",
    "print(dfic.index)"
   ]
  },
  {
   "cell_type": "markdown",
   "metadata": {},
   "source": [
    "Bisa kita lihat diatas ini setelah kita menjadi email, kolom email sudah tidak dianggap menjadi kolom lagi melainkan menjadi index -> menggantikan angka RangeIndex. Ini akan mempermudah kita ketika kita ingin mengecek/mangakses suatu kolom. Contohnya seperti dibawah ini"
   ]
  },
  {
   "cell_type": "code",
   "execution_count": 36,
   "metadata": {},
   "outputs": [
    {
     "data": {
      "text/plain": [
       "first      Corey\n",
       "last     Schafer\n",
       "Name: CoreyMSchafer@gmail.com, dtype: object"
      ]
     },
     "execution_count": 36,
     "metadata": {},
     "output_type": "execute_result"
    }
   ],
   "source": [
    "dfic.loc[\"CoreyMSchafer@gmail.com\"]"
   ]
  },
  {
   "cell_type": "markdown",
   "metadata": {},
   "source": [
    "> Hal yang perlu kita perhatikan adalah index ini pada dasarnya adalah angka/range yang mana angka tersebut adalah unique dan pasti berbeda tiap barisnya, ketika kita menggantinya dengan index yang kita ingini hati hati karena pandas mengizinkan kita memiliki index yang sama."
   ]
  },
  {
   "cell_type": "markdown",
   "metadata": {},
   "source": [
    "### Menambah atau menghapus kolom\n",
    "- belum ada pembahasan"
   ]
  },
  {
   "cell_type": "markdown",
   "metadata": {},
   "source": [
    "<hr></hr>\n",
    "\n",
    "## **Statistic Using Pandas**\n",
    "### Menghitung (harus series)"
   ]
  },
  {
   "cell_type": "code",
   "execution_count": 3,
   "metadata": {},
   "outputs": [
    {
     "name": "stdout",
     "output_type": "stream",
     "text": [
      "17.428571428571427\n",
      "15.0\n",
      "0    14\n",
      "Name: temp, dtype: int64\n",
      "24\n",
      "4.7559486560567095\n"
     ]
    }
   ],
   "source": [
    "Mean = data[\"temp\"].mean()\n",
    "Median = data[\"temp\"].median()\n",
    "Mode = data[\"temp\"].mode()\n",
    "Max = data[\"temp\"].max()\n",
    "Std = data[\"temp\"].std()\n",
    "print(Mean)\n",
    "print(Median)\n",
    "print(Mode)\n",
    "print(Max)\n",
    "print(Std)"
   ]
  },
  {
   "cell_type": "markdown",
   "metadata": {},
   "source": [
    "### Menghitung 'Banyak'nya data dalam kolom tersebut\n",
    "tanpa kita perlu menggunakan module counter, ataupun membuat function loop sendiri. Pandas bisa memberikan 'n' atau jumlah data dari suatu kolom"
   ]
  },
  {
   "cell_type": "code",
   "execution_count": 3,
   "metadata": {},
   "outputs": [
    {
     "data": {
      "text/plain": [
       "temp\n",
       "14    2\n",
       "12    1\n",
       "15    1\n",
       "21    1\n",
       "22    1\n",
       "24    1\n",
       "Name: count, dtype: int64"
      ]
     },
     "execution_count": 3,
     "metadata": {},
     "output_type": "execute_result"
    }
   ],
   "source": [
    "data.temp.value_counts()"
   ]
  },
  {
   "cell_type": "markdown",
   "metadata": {},
   "source": [
    "### Menghitung korelasi antar kolom.\n",
    " -\n",
    "### Menghitung statistik deskriptif.\n",
    " -"
   ]
  },
  {
   "cell_type": "markdown",
   "metadata": {},
   "source": [
    "<hr></hr>\n",
    "\n",
    "## **Visualisasi Data**\n",
    "- belum ada pembahasan"
   ]
  },
  {
   "cell_type": "markdown",
   "metadata": {},
   "source": []
  }
 ],
 "metadata": {
  "kernelspec": {
   "display_name": "Python 3",
   "language": "python",
   "name": "python3"
  },
  "language_info": {
   "codemirror_mode": {
    "name": "ipython",
    "version": 3
   },
   "file_extension": ".py",
   "mimetype": "text/x-python",
   "name": "python",
   "nbconvert_exporter": "python",
   "pygments_lexer": "ipython3",
   "version": "3.12.2"
  }
 },
 "nbformat": 4,
 "nbformat_minor": 2
}
