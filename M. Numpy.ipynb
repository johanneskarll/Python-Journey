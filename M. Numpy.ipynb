{
 "cells": [
  {
   "cell_type": "markdown",
   "metadata": {},
   "source": [
    "# **Module Numpy (Numerical Python)**\n",
    "Module dari luar python dan harus diinstall terlebih dahulu pip install numpy. Module ini berfokus pada scientific computing dan biasanya digunakan untuk perhitungan scientific seperti matrix, aljabar, statistic, dan sebagainya.\n",
    "\n",
    "link documentation numpy : https://numpy.org/doc/stable/"
   ]
  },
  {
   "cell_type": "markdown",
   "metadata": {},
   "source": [
    "<hr></hr>\n",
    "\n",
    "## **Sedikit Pendahuluan**\n",
    "### Array vs List\n",
    "Meskipun memiliki bentuk matrix yang mirip dengan 'list' bawaan dari python, array dalam numpy bekerja dengan cara yang sedikit berbeda."
   ]
  },
  {
   "cell_type": "code",
   "execution_count": 5,
   "metadata": {},
   "outputs": [
    {
     "name": "stdout",
     "output_type": "stream",
     "text": [
      "Array = [1 2 3 4 5]\n",
      "List = [1, 2, 3, 4, 5]\n",
      "----------------------------\n",
      "Ketika ditambah satu array akan menjumlah setiap value isinya, \n",
      "sementara list menambahkan anggota (ini karena list tidak dapat hanya + 1 begitu saja)\n",
      "Array = [2 3 4 5 6]\n",
      "List = [1, 2, 3, 4, 5, 1]\n"
     ]
    }
   ],
   "source": [
    "import numpy as np\n",
    "array = np.array([1,2,3,4,5])\n",
    "lists = [1,2,3,4,5]\n",
    "\n",
    "print(f\"Array = {array}\")\n",
    "print(f\"List = {lists}\")\n",
    "\n",
    "print(\"----------------------------\")\n",
    "\n",
    "array += 1\n",
    "lists += [1]\n",
    "print(\"Ketika ditambah satu array akan menjumlah setiap value isinya, \\nsementara list menambahkan anggota (ini karena list tidak dapat hanya + 1 begitu saja)\")\n",
    "print(f\"Array = {array}\")\n",
    "print(f\"List = {lists}\")\n",
    "\n"
   ]
  },
  {
   "cell_type": "markdown",
   "metadata": {},
   "source": [
    "<hr></hr>\n",
    "\n",
    "## **Initialize Array**\n",
    "### Berdasarkan Ukuran\n",
    "#### Array Satu Dimensi\n",
    "Pembuatan array dapat secara manual (a), list, maupun tuple seperti dibawah ini. If you look it more clearly there is slight difference between numpy array dan array java / c++ yaitu array numpy dapat terdiri dari anggota yang tidak homogen."
   ]
  },
  {
   "cell_type": "code",
   "execution_count": 16,
   "metadata": {},
   "outputs": [
    {
     "name": "stdout",
     "output_type": "stream",
     "text": [
      "[1 2 3 4 5]\n",
      "['1' '2' '3' 'a' '5']\n",
      "[1 2 3 0 5]\n",
      "====================\n",
      "[1.  1.5 2.  2.5 3.  3.5 4.  4.5]\n",
      "[1. 3. 5.]\n"
     ]
    }
   ],
   "source": [
    "import numpy as np\n",
    "\n",
    "inilist = [1,2,3,\"a\",5]\n",
    "inituple = [1,2,3,False,5]\n",
    "\n",
    "a = np.array([1,2,3,4,5], dtype = float) #dtype dapat ditulis maupun tidak\n",
    "b = np.array(inilist)\n",
    "c = np.array(inituple)\n",
    "\n",
    "print (a) # array biasa\n",
    "print (b) # array dari list\n",
    "print (c) # array dari tuple\n",
    "\n",
    "print(20*\"=\")\n",
    "\n",
    "withrange = np.arange(1,5,0.5)\n",
    "print(withrange)\n",
    "\n",
    "withlinspace = np.linspace(1,5,3)\n",
    "print(withlinspace)"
   ]
  },
  {
   "cell_type": "markdown",
   "metadata": {},
   "source": [
    "#### Array Multi Dimension"
   ]
  },
  {
   "cell_type": "code",
   "execution_count": 30,
   "metadata": {},
   "outputs": [
    {
     "name": "stdout",
     "output_type": "stream",
     "text": [
      "[[1 2 3]\n",
      " [4 5 6]]\n"
     ]
    }
   ],
   "source": [
    "twod = np.array([ (1,2,3) , (4,5,6) ])\n",
    "print(twod)"
   ]
  },
  {
   "cell_type": "markdown",
   "metadata": {},
   "source": [
    "### Berdasarkan Isi Arraynya\n",
    "#### Array dengan semua nilainya 0"
   ]
  },
  {
   "cell_type": "code",
   "execution_count": 29,
   "metadata": {},
   "outputs": [
    {
     "name": "stdout",
     "output_type": "stream",
     "text": [
      "[0. 0. 0. 0. 0.]\n",
      "[[0. 0. 0.]\n",
      " [0. 0. 0.]\n",
      " [0. 0. 0.]]\n"
     ]
    }
   ],
   "source": [
    "# martix dengan nilai nol\n",
    "zerod = np.zeros(5)\n",
    "zerotwod = np.zeros((3,3))\n",
    "print(zero)\n",
    "print(zerotwod)"
   ]
  },
  {
   "cell_type": "markdown",
   "metadata": {},
   "source": [
    "#### Array dengan semua nilainya 1"
   ]
  },
  {
   "cell_type": "code",
   "execution_count": 31,
   "metadata": {},
   "outputs": [
    {
     "name": "stdout",
     "output_type": "stream",
     "text": [
      "[1. 1. 1. 1. 1.]\n",
      "[[1. 1. 1.]\n",
      " [1. 1. 1.]\n",
      " [1. 1. 1.]]\n"
     ]
    }
   ],
   "source": [
    "# martix dengan nilai satu\n",
    "oned = np.ones(5)\n",
    "onetwod = np.ones((3,3))\n",
    "print(oned)\n",
    "print(onetwod)"
   ]
  },
  {
   "cell_type": "markdown",
   "metadata": {},
   "source": [
    "#### Array dengan semua nilainya kita tentukan"
   ]
  },
  {
   "cell_type": "code",
   "execution_count": 6,
   "metadata": {},
   "outputs": [
    {
     "name": "stdout",
     "output_type": "stream",
     "text": [
      "[[6 6 6]\n",
      " [6 6 6]]\n",
      "[9 9 9 9 9]\n"
     ]
    }
   ],
   "source": [
    "# matrix full\n",
    "p3 = np.full((2,3),6)\n",
    "p4 = np.full((5),9)\n",
    "print(p3)\n",
    "print(p4)"
   ]
  },
  {
   "cell_type": "markdown",
   "metadata": {},
   "source": [
    "#### Array Identitas"
   ]
  },
  {
   "cell_type": "code",
   "execution_count": 35,
   "metadata": {},
   "outputs": [
    {
     "name": "stdout",
     "output_type": "stream",
     "text": [
      "[[1. 0. 0. 0.]\n",
      " [0. 1. 0. 0.]\n",
      " [0. 0. 1. 0.]\n",
      " [0. 0. 0. 1.]]\n",
      "[[1. 0. 0. 0.]\n",
      " [0. 1. 0. 0.]\n",
      " [0. 0. 1. 0.]\n",
      " [0. 0. 0. 1.]]\n"
     ]
    }
   ],
   "source": [
    "# martix identitas\n",
    "p = np.identity(4)\n",
    "print(p)\n",
    "\n",
    "p2 = np.eye(4)\n",
    "print(p2)"
   ]
  },
  {
   "cell_type": "markdown",
   "metadata": {},
   "source": [
    "### Based on how they made\n",
    "#### Using Function\n",
    "We can use `np.fromfunction(funcname, size, type)`\n",
    "This function will construct an array by executing a funcname over each coordinate.\n",
    "funcname yang didalam dipanggil dengan N parameter yang mana N adalah jumlah shapenya."
   ]
  },
  {
   "cell_type": "code",
   "execution_count": 5,
   "metadata": {},
   "outputs": [
    {
     "name": "stdout",
     "output_type": "stream",
     "text": [
      "[[  0   1   8  27  64 125 216 343 512 729]]\n"
     ]
    }
   ],
   "source": [
    "import numpy as np\n",
    "def kuadrat(baris,kolom):\n",
    "    return kolom**3\n",
    "\n",
    "b = np.fromfunction(kuadrat,(1,10), dtype=int)\n",
    "print(b)\n"
   ]
  },
  {
   "cell_type": "code",
   "execution_count": 14,
   "metadata": {},
   "outputs": [
    {
     "name": "stdout",
     "output_type": "stream",
     "text": [
      "[[0. 1. 2. 3.]\n",
      " [1. 2. 3. 4.]\n",
      " [2. 3. 4. 5.]\n",
      " [3. 4. 5. 6.]]\n"
     ]
    }
   ],
   "source": [
    "def jumlah(baris,kolom):\n",
    "    return kolom+baris\n",
    "\n",
    "c = np.fromfunction(jumlah,(4,4), dtype=float)\n",
    "print(c)"
   ]
  },
  {
   "cell_type": "markdown",
   "metadata": {},
   "source": [
    "#### Using Iterable\n",
    "We can use `np.fromiter(itername, type)`"
   ]
  },
  {
   "cell_type": "code",
   "execution_count": 8,
   "metadata": {},
   "outputs": [
    {
     "name": "stdout",
     "output_type": "stream",
     "text": [
      "[ 0  1  4  9 16]\n"
     ]
    }
   ],
   "source": [
    "イテラブル = (x*x for x in range(5))\n",
    "g = np.fromiter(イテラブル, dtype=int)\n",
    "print(g)"
   ]
  },
  {
   "cell_type": "markdown",
   "metadata": {},
   "source": [
    "#### Using Random\n",
    "np.floor digunakan untuk membulatkan angka, dan random.rand untuk membuat array random dengan ukuran yang telah kita tetapkan"
   ]
  },
  {
   "cell_type": "code",
   "execution_count": 24,
   "metadata": {},
   "outputs": [
    {
     "data": {
      "text/plain": [
       "array([[2., 2.],\n",
       "       [3., 7.]])"
      ]
     },
     "execution_count": 24,
     "metadata": {},
     "output_type": "execute_result"
    }
   ],
   "source": [
    "a = np.floor(np.random.rand(2,2)*10)\n",
    "a"
   ]
  },
  {
   "cell_type": "markdown",
   "metadata": {},
   "source": [
    "#### Multitype Array\n",
    "Memungkinkan kita membuat array dengan tipe yang telah kita tetapkan, semisal kita punya array yang isinya campuran seperti character dan numerical, jika tidak menggunakan multitipe dan dtype seperti dibawah ini maka hasil arraynya akan menjadi string semua.\n",
    "> Dtypes documentation https://numpy.org/doc/stable/reference/arrays.dtypes.html"
   ]
  },
  {
   "cell_type": "code",
   "execution_count": 20,
   "metadata": {},
   "outputs": [
    {
     "name": "stdout",
     "output_type": "stream",
     "text": [
      "[(b'ucup', 150) (b'otong', 160) (b'mario', 180)]\n",
      "Member pertama doang = (b'ucup', 150)\n",
      "Tinggi doang [150 160 180]\n"
     ]
    }
   ],
   "source": [
    "dtipe = [('nama','S255'),('tinggi',int)]\n",
    "data = [\n",
    "    ('ucup',150),\n",
    "    ('otong',160),\n",
    "    ('mario',180)\n",
    "]\n",
    "\n",
    "e = np.array(data, dtype = dtipe)\n",
    "\n",
    "print(e)\n",
    "print(f\"Member pertama doang = {e[0]}\")\n",
    "print(f\"Tinggi doang {e[\"tinggi\"]}\")"
   ]
  },
  {
   "cell_type": "markdown",
   "metadata": {},
   "source": [
    "<hr></hr>\n",
    "\n",
    "## **Arithmetic Operation (Element Wise)**\n",
    "### Penjumlahan/Pengurangan (biasa)\n",
    "As you can see down below, if we sum two list the result will be the combination of both list. However, if we sum up two numpy array the result will be the sum of each value. \n",
    "\n",
    ">Jika jumlah anggota array a dan array b tidak sama maka tidak bisa dijumlah. Hal ini berbahaya karena array numpy bersifat elementwise"
   ]
  },
  {
   "cell_type": "code",
   "execution_count": 42,
   "metadata": {},
   "outputs": [
    {
     "name": "stdout",
     "output_type": "stream",
     "text": [
      "[1, 2, 3, 4, 5, 6, 7, 8, 9, 10]\n"
     ]
    }
   ],
   "source": [
    "import numpy as np\n",
    "\n",
    "a = [1,2,3,4,5]\n",
    "b = [6,7,8,9,10]\n",
    "\n",
    "anp = np.array(a)\n",
    "bnp = np.array(b)\n",
    "\n",
    "hasillist = a+b\n",
    "print(hasillist)"
   ]
  },
  {
   "cell_type": "code",
   "execution_count": 43,
   "metadata": {},
   "outputs": [
    {
     "name": "stdout",
     "output_type": "stream",
     "text": [
      "[ 7  9 11 13 15]\n"
     ]
    }
   ],
   "source": [
    "hasilarray = anp + bnp\n",
    "print(hasilarray)"
   ]
  },
  {
   "cell_type": "markdown",
   "metadata": {},
   "source": [
    "### Perkalian/Pembagian (biasa)\n",
    "Kita tidak bisa melakukan perkalian list dengan list, hal ini akan menghasilkan error. namun berbeda dengan array yang akan mengalikan masing masing valuenya, artinya value pertama x value pertama, value kedua x value kedua"
   ]
  },
  {
   "cell_type": "code",
   "execution_count": 51,
   "metadata": {},
   "outputs": [
    {
     "ename": "TypeError",
     "evalue": "can't multiply sequence by non-int of type 'list'",
     "output_type": "error",
     "traceback": [
      "\u001b[1;31m---------------------------------------------------------------------------\u001b[0m",
      "\u001b[1;31mTypeError\u001b[0m                                 Traceback (most recent call last)",
      "Cell \u001b[1;32mIn[51], line 1\u001b[0m\n\u001b[1;32m----> 1\u001b[0m hasillist \u001b[38;5;241m=\u001b[39m \u001b[43ma\u001b[49m\u001b[43m \u001b[49m\u001b[38;5;241;43m*\u001b[39;49m\u001b[43m \u001b[49m\u001b[43mb\u001b[49m\n\u001b[0;32m      2\u001b[0m \u001b[38;5;28mprint\u001b[39m(hasillist)\n",
      "\u001b[1;31mTypeError\u001b[0m: can't multiply sequence by non-int of type 'list'"
     ]
    }
   ],
   "source": [
    "hasillist = a * b\n",
    "print(hasillist)"
   ]
  },
  {
   "cell_type": "code",
   "execution_count": 48,
   "metadata": {},
   "outputs": [
    {
     "name": "stdout",
     "output_type": "stream",
     "text": [
      "[ 6 14 24 36 50]\n",
      "[0.16666667 0.28571429 0.375      0.44444444 0.5       ]\n"
     ]
    }
   ],
   "source": [
    "kali = anp * bnp\n",
    "bagi = anp / bnp\n",
    "print(kali)\n",
    "print(bagi)"
   ]
  },
  {
   "cell_type": "markdown",
   "metadata": {},
   "source": [
    "## **Martix Operation**\n",
    "### Perkalian Martix (Dot Product)\n",
    "Hasilnya akan berupa skalar quantity\n",
    "\n",
    "$dot = a.b$\n",
    "\n",
    "$dot = |a|~.~|b|~.~cos0$\n",
    "\n"
   ]
  },
  {
   "cell_type": "code",
   "execution_count": 2,
   "metadata": {},
   "outputs": [
    {
     "name": "stdout",
     "output_type": "stream",
     "text": [
      "[[3. 3.]\n",
      " [7. 7.]]\n",
      "[[3. 3.]\n",
      " [7. 7.]]\n"
     ]
    }
   ],
   "source": [
    "import numpy as np\n",
    "a2d = np.array(([1,2],\n",
    "                [3,4]))\n",
    "b2d = np.ones([2,2])\n",
    "\n",
    "# perkalian matrix (bukan elementwise)\n",
    "c = np.dot(a2d,b2d)\n",
    "c2 = a2d.dot(b2d) # cara kedua menggunakan objek yang lainnya\n",
    "\n",
    "print(c)\n",
    "print(c2)\n"
   ]
  },
  {
   "cell_type": "markdown",
   "metadata": {},
   "source": [
    "### Perkalian Martix (Cross Product)\n",
    "A cross B dan B cross A akan berbeda hasilnya, berbeda dengan dot yang hasilnya akan sama. Hasilnya akan berupa vector quantity.\n",
    "\n",
    "$a~x~b = ||a||~.~||b||~.~sin0~.~c~(arahnya)$"
   ]
  },
  {
   "cell_type": "code",
   "execution_count": 9,
   "metadata": {},
   "outputs": [
    {
     "name": "stdout",
     "output_type": "stream",
     "text": [
      "[ 0  0 -3]\n",
      "[0 0 3]\n"
     ]
    }
   ],
   "source": [
    "a = np.array([1,2,0])\n",
    "b = np.array([2,1,0])\n",
    "\n",
    "print(np.cross(a,b))\n",
    "print(np.cross(b,a))"
   ]
  },
  {
   "cell_type": "markdown",
   "metadata": {},
   "source": [
    "<hr></hr>\n",
    "\n",
    "## **Operation**\n",
    "### Indexing"
   ]
  },
  {
   "cell_type": "code",
   "execution_count": 2,
   "metadata": {},
   "outputs": [
    {
     "name": "stdout",
     "output_type": "stream",
     "text": [
      "Nilai pertama adalah = 2\n",
      "Nilai maximum dari a =  7\n",
      "Posisi maximum dari a =  3\n",
      "Posisi maximum dari a =  0\n"
     ]
    }
   ],
   "source": [
    "a = np.array([(2,2),(3,7)])\n",
    "print(f\"Nilai pertama adalah = {a[0][0]}\") # bisa juga a[0] untuk mengeluarkan satu barisnya\n",
    "print(f\"Nilai maximum dari a = \", a.max())\n",
    "print(f\"Posisi maximum dari a = \", a.argmax())\n",
    "print(f\"Posisi maximum dari a = \", a.argmin())"
   ]
  },
  {
   "cell_type": "markdown",
   "metadata": {},
   "source": [
    "### Shape"
   ]
  },
  {
   "cell_type": "code",
   "execution_count": 40,
   "metadata": {},
   "outputs": [
    {
     "data": {
      "text/plain": [
       "(2, 2)"
      ]
     },
     "execution_count": 40,
     "metadata": {},
     "output_type": "execute_result"
    }
   ],
   "source": [
    "a.shape"
   ]
  },
  {
   "cell_type": "code",
   "execution_count": 1,
   "metadata": {},
   "outputs": [
    {
     "name": "stdout",
     "output_type": "stream",
     "text": [
      "elemen pertama =  0\n",
      "elemen ketujuh =  6\n",
      "elemen terakhir =  9\n"
     ]
    }
   ],
   "source": [
    "import numpy as np\n",
    "\n",
    "a = np.array([0,1,2,3,4,5,6,7,8,9])\n",
    "\n",
    "print(\"elemen pertama = \", a[0])\n",
    "print(\"elemen ketujuh = \", a[6])\n",
    "print(\"elemen terakhir = \", a[-1])"
   ]
  },
  {
   "cell_type": "markdown",
   "metadata": {},
   "source": [
    "### Slicing"
   ]
  },
  {
   "cell_type": "code",
   "execution_count": 68,
   "metadata": {},
   "outputs": [
    {
     "name": "stdout",
     "output_type": "stream",
     "text": [
      "elemen dari 1-6 [0 1 2 3 4 5]\n",
      "elemen dari 4 sampai akhir [3 4 5 6 7 8 9]\n"
     ]
    }
   ],
   "source": [
    "print(\"elemen dari 1-6\", a[0:6])\n",
    "print(\"elemen dari 4 sampai akhir\", a[3:])"
   ]
  },
  {
   "cell_type": "markdown",
   "metadata": {},
   "source": [
    "### Iteration"
   ]
  },
  {
   "cell_type": "code",
   "execution_count": null,
   "metadata": {},
   "outputs": [],
   "source": [
    "for i in a:\n",
    "    print(\"value = \",i)"
   ]
  },
  {
   "cell_type": "markdown",
   "metadata": {},
   "source": [
    "### Sorting\n",
    "Ini akan mengurutkan per baris. Jadi tidak ada hubungan antar baris dalam sorting"
   ]
  },
  {
   "cell_type": "code",
   "execution_count": 46,
   "metadata": {},
   "outputs": [
    {
     "name": "stdout",
     "output_type": "stream",
     "text": [
      "[[5. 6.]\n",
      " [8. 0.]]\n",
      "[[5. 6.]\n",
      " [8. 0.]]\n"
     ]
    }
   ],
   "source": [
    "import numpy as np\n",
    "\n",
    "a = np.floor(np.random.rand(2,2)*10)\n",
    "# berbeda dengan randn yang valuenya nilai acak yang terdistribusi secara normal (dengan rata-rata 0 dan varians 1)\n",
    "print(a)\n",
    "np.sort(a) # cara lain -> a.sort()\n",
    "print(a)"
   ]
  },
  {
   "cell_type": "code",
   "execution_count": 45,
   "metadata": {},
   "outputs": [
    {
     "name": "stdout",
     "output_type": "stream",
     "text": [
      "[[0 1]\n",
      " [0 1]]\n"
     ]
    }
   ],
   "source": [
    "print(np.argsort(a)) # ini menghasilkan posisi dari si a sebelum diurutkan\n",
    "# cara ngitungnya dari baris pertama baru ke baris kedua [[1 2][3 4]]"
   ]
  },
  {
   "cell_type": "code",
   "execution_count": 54,
   "metadata": {},
   "outputs": [
    {
     "name": "stdout",
     "output_type": "stream",
     "text": [
      "[(b'ucup', 170) (b'otong', 180) (b'mario', 190)]\n"
     ]
    }
   ],
   "source": [
    "dtipe = [('nama','S10'),('tinggi',int)]\n",
    "data = [\n",
    "    ('ucup',170),\n",
    "    ('otong',180),\n",
    "    ('mario',190)\n",
    "]\n",
    "\n",
    "a = np.array(data, dtype=dtipe)\n",
    "print(np.sort(a, order='tinggi'))"
   ]
  },
  {
   "cell_type": "markdown",
   "metadata": {},
   "source": [
    "Dibawah ini akan menghasilkan None karena fungsi sort sendiri tidak mengembalikan nilai, akan tetapi jika kita melakukan a.sort(), array a itu sendiri **akan diurutkan**. \n",
    "\n",
    "Berbeda dengan np.sort yang akan mengembalikan return array, `tanpa mengubah array asli`."
   ]
  },
  {
   "cell_type": "code",
   "execution_count": 55,
   "metadata": {},
   "outputs": [
    {
     "name": "stdout",
     "output_type": "stream",
     "text": [
      "None\n",
      "None\n"
     ]
    }
   ],
   "source": [
    "print(a.sort(order='tinggi')) \n",
    "print(a.sort(order='nama'))"
   ]
  },
  {
   "cell_type": "markdown",
   "metadata": {},
   "source": [
    "### Transpose Matrix"
   ]
  },
  {
   "cell_type": "code",
   "execution_count": 16,
   "metadata": {},
   "outputs": [
    {
     "name": "stdout",
     "output_type": "stream",
     "text": [
      "[[1 3]\n",
      " [2 4]]\n",
      "[[1 3]\n",
      " [2 4]]\n"
     ]
    }
   ],
   "source": [
    "print(a2d.transpose())\n",
    "print(a2d.T) # cara kedua lebih singkat lagi"
   ]
  },
  {
   "cell_type": "markdown",
   "metadata": {},
   "source": [
    "### Invers\n",
    "Invers adalah kebalikan dari suatu matrix, untuk membuktikan bahwa matrix adalah invers yaitu jika A.A^-1 = I atau matrix Identitas\n",
    "> Tapi tidak semua matrix memiliki invers"
   ]
  },
  {
   "cell_type": "code",
   "execution_count": 15,
   "metadata": {},
   "outputs": [
    {
     "name": "stdout",
     "output_type": "stream",
     "text": [
      "[[ 0.5  0.5]\n",
      " [-0.5  0.5]]\n",
      "[[1. 0.]\n",
      " [0. 1.]]\n"
     ]
    }
   ],
   "source": [
    "a = np.array([(1,-1),(1,1)])\n",
    "a_inv = np.linalg.inv(a)\n",
    "print(a_inv)\n",
    "# ini pembuktiannya v\n",
    "print(a.dot(a_inv))"
   ]
  },
  {
   "cell_type": "markdown",
   "metadata": {},
   "source": [
    "### Determinan"
   ]
  },
  {
   "cell_type": "code",
   "execution_count": 16,
   "metadata": {},
   "outputs": [
    {
     "name": "stdout",
     "output_type": "stream",
     "text": [
      "2.0\n"
     ]
    }
   ],
   "source": [
    "det_a = np.linalg.det(a)\n",
    "print(det_a)"
   ]
  },
  {
   "cell_type": "markdown",
   "metadata": {},
   "source": [
    "### Flatten Array, vector baris\n",
    "Dijejerin biar jadi satu baris semua"
   ]
  },
  {
   "cell_type": "code",
   "execution_count": 18,
   "metadata": {},
   "outputs": [
    {
     "name": "stdout",
     "output_type": "stream",
     "text": [
      "[1 2 3 4]\n",
      "[1 2 3 4]\n"
     ]
    }
   ],
   "source": [
    "print(a2d.ravel())\n",
    "print(np.ravel(a2d))"
   ]
  },
  {
   "cell_type": "markdown",
   "metadata": {},
   "source": [
    "### Reshape\n",
    "Mengubah urutannya, sama seperti flatten array tapi dipotong sesuai yang kita tentukan"
   ]
  },
  {
   "cell_type": "code",
   "execution_count": 30,
   "metadata": {},
   "outputs": [
    {
     "name": "stdout",
     "output_type": "stream",
     "text": [
      "[[1]\n",
      " [2]\n",
      " [3]\n",
      " [4]]\n",
      "(2, 2)\n",
      "[[1 2]\n",
      " [3 4]]\n"
     ]
    }
   ],
   "source": [
    "print(a2d.reshape(4,1))\n",
    "print(a2d.shape)\n",
    "print(a2d) #ini masih bentuk semula ga permanen"
   ]
  },
  {
   "cell_type": "markdown",
   "metadata": {},
   "source": [
    "### Resize\n",
    "Berbeda dengan yang lainnya, resize akan merubah nilainya permanen ke variabelnya, jika berbeda dengan size aslinya resize akan menyesuaikan just like below"
   ]
  },
  {
   "cell_type": "code",
   "execution_count": 31,
   "metadata": {},
   "outputs": [
    {
     "name": "stdout",
     "output_type": "stream",
     "text": [
      "[[1 2]\n",
      " [3 4]]\n",
      "[[1 2]\n",
      " [3 4]\n",
      " [0 0]]\n"
     ]
    }
   ],
   "source": [
    "print(a2d) # padahal a2d kea gini\n",
    "a2d.resize(3,2)\n",
    "print(a2d) # berubah jadi gini"
   ]
  },
  {
   "cell_type": "markdown",
   "metadata": {},
   "source": [
    "### Stacking\n",
    "We can stack one matrix on the top or on the side of each other. with `hstack` and `vstack`\n",
    "\n",
    ">Be careful with size of the matrix, if the size is diffrent it might cause an error for some stack"
   ]
  },
  {
   "cell_type": "code",
   "execution_count": 1,
   "metadata": {},
   "outputs": [
    {
     "data": {
      "text/plain": [
       "(array([1, 2, 3, 4, 5, 6]),\n",
       " array([[1, 2, 3],\n",
       "        [4, 5, 6]]))"
      ]
     },
     "execution_count": 1,
     "metadata": {},
     "output_type": "execute_result"
    }
   ],
   "source": [
    "import numpy as np\n",
    "\n",
    "a = np.array([1,2,3])\n",
    "b = np.array([4,5,6])\n",
    "\n",
    "c = np.hstack([a,b]) # menumpuk secara horizontal\n",
    "d = np.vstack([a,b])\n",
    "\n",
    "c,d"
   ]
  },
  {
   "cell_type": "markdown",
   "metadata": {},
   "source": [
    "### Persamaan Linear\n",
    "Kita dapat menggunakan np.linealg.solve(a,y). dimana a adalah matrix yang akan dikali dengan sesuatu dan y adalah hasil dari perkalian a dengan sesuatu itu."
   ]
  },
  {
   "cell_type": "code",
   "execution_count": 4,
   "metadata": {},
   "outputs": [
    {
     "name": "stdout",
     "output_type": "stream",
     "text": [
      "[4. 5.]\n",
      "[4. 5.]\n"
     ]
    }
   ],
   "source": [
    "a = np.array([(2,3),(1,2)])\n",
    "y = np.array([23,14])\n",
    "\n",
    "ainv = np.linalg.inv(a)\n",
    "x1 = ainv.dot(y)\n",
    "print(x1)\n",
    "\n",
    "# ini sama dengan v\n",
    "x2 = np.linalg.solve(a,y)\n",
    "print(x2)"
   ]
  },
  {
   "cell_type": "code",
   "execution_count": null,
   "metadata": {},
   "outputs": [],
   "source": []
  }
 ],
 "metadata": {
  "kernelspec": {
   "display_name": "Python 3",
   "language": "python",
   "name": "python3"
  },
  "language_info": {
   "codemirror_mode": {
    "name": "ipython",
    "version": 3
   },
   "file_extension": ".py",
   "mimetype": "text/x-python",
   "name": "python",
   "nbconvert_exporter": "python",
   "pygments_lexer": "ipython3",
   "version": "3.12.2"
  }
 },
 "nbformat": 4,
 "nbformat_minor": 2
}
