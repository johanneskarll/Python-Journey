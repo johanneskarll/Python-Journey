{
 "cells": [
  {
   "cell_type": "markdown",
   "metadata": {},
   "source": [
    "# **Module Scikit-Learn**\n",
    "Module dari luar python dan harus diinstall terlebih dahulu pip install scikit-learn. Module ini membantu kita dalam hal membuat model prediktif, pengelompokan data (clustering), preprocesing data, pipeline.\n",
    "\n",
    "link documentation scikit : https://scikit-learn.org/stable/user_guide.html#user-guide"
   ]
  },
  {
   "cell_type": "markdown",
   "metadata": {},
   "source": [
    "#### resample\n",
    "    Digunakan untuk mengambil sample dari satu array/lebih secara random, bisa dalam jumlah yang konsisten sama terus bisa juga diatur. Metode ini dirancang khusus untuk keperluan boostraping untuk menghasilkan sampel-sampel bootstrap dari sebuah populasi, dan sangat berguna untuk melakukan analisis statistik."
   ]
  },
  {
   "cell_type": "code",
   "execution_count": 7,
   "metadata": {},
   "outputs": [
    {
     "name": "stdout",
     "output_type": "stream",
     "text": [
      "0 = [70, 10, 70, 50, 10, 70, 10]\n",
      "1 = [50, 40, 10, 70, 70, 20, 70]\n",
      "2 = [50, 50, 60, 70, 20, 10, 50]\n",
      "3 = [50, 10, 30, 40, 10, 30, 10]\n",
      "4 = [20, 50, 60, 70, 50, 60, 30]\n",
      "5 = [20, 30, 10, 20, 50, 60, 10]\n",
      "6 = [10, 30, 20, 10, 40, 50, 60]\n",
      "7 = [20, 50, 70, 40, 30, 20, 10]\n",
      "8 = [70, 40, 40, 10, 60, 10, 10]\n",
      "9 = [10, 10, 60, 50, 60, 40, 50]\n",
      "[50, 50, 50, 30, 50, 20, 30, 30, 40, 50]\n",
      "40\n"
     ]
    }
   ],
   "source": [
    "from sklearn.utils import resample\n",
    "from statistics import median, mean\n",
    "\n",
    "results = []\n",
    "number = [10, 20, 30, 40, 50, 60, 70]\n",
    "for nrepeat in range(10):\n",
    "    sample = resample(number)\n",
    "    results.append(median(sample))\n",
    "    print(f\"{nrepeat} = {sample}\")\n",
    "    \n",
    "print(results)\n",
    "print(mean(results))"
   ]
  },
  {
   "cell_type": "code",
   "execution_count": null,
   "metadata": {},
   "outputs": [],
   "source": []
  }
 ],
 "metadata": {
  "kernelspec": {
   "display_name": "Python 3",
   "language": "python",
   "name": "python3"
  },
  "language_info": {
   "codemirror_mode": {
    "name": "ipython",
    "version": 3
   },
   "file_extension": ".py",
   "mimetype": "text/x-python",
   "name": "python",
   "nbconvert_exporter": "python",
   "pygments_lexer": "ipython3",
   "version": "3.12.2"
  }
 },
 "nbformat": 4,
 "nbformat_minor": 2
}
