{
 "cells": [
  {
   "cell_type": "markdown",
   "metadata": {},
   "source": [
    "# **Module Turtle**\n",
    "Module Built-In Python yang dibuat diatas tkinter dan memerlukan pemahaman **OOP** memungkinkan kita untuk menggambar diatas screen dengan/tanpa bentuk kura-kura.\n"
   ]
  },
  {
   "cell_type": "markdown",
   "metadata": {},
   "source": [
    "### **Class Turtle()**\n",
    "#### tim.shape()\n",
    "    untuk menginisialisasi bentuk tim\n",
    "#### tim.pu() / tim.pd()\n",
    "    mengatur pen pada kura-kura ketika kita ingin tim tidak menggambar, kita bisa menggunakan tim.pu sehingga seakan-akan ia tidak menggambar begitu juga sebaliknya."
   ]
  },
  {
   "cell_type": "code",
   "execution_count": 2,
   "metadata": {},
   "outputs": [],
   "source": [
    "from turtle import Turtle\n",
    "tim = Turtle()\n",
    "tim.shape()\n",
    "tim.penup() atau tim.pu() dan tim.pendown() atau tim.pd()\n",
    "tim.forward()\n"
   ]
  },
  {
   "cell_type": "markdown",
   "metadata": {},
   "source": [
    "### **Class Screen()**\n",
    "Screen digunakan untuk membuat GUI yang pops-out dan tujuan kita membuat objek screen adalah untuk mengatur screen tersebut dengan berbagai fiturnya.\n",
    "pada dasarnya window pada turtle akan langsung menghilang begitu program dirun, kita memerlukan **exitonclick()** agar window/screen baru akan hilang ketika diklik.\n",
    "\n",
    "#### screen.listen()\n",
    "    membuat screen dapat menerima input keyboard sehingga kita dapat mengontrol gerak kura-kura"
   ]
  },
  {
   "cell_type": "code",
   "execution_count": null,
   "metadata": {},
   "outputs": [],
   "source": [
    "from turtle import Screen\n",
    "screen = Screen()\n",
    "screen.exitonclick() \n",
    "screen.listen()"
   ]
  },
  {
   "cell_type": "markdown",
   "metadata": {},
   "source": []
  }
 ],
 "metadata": {
  "kernelspec": {
   "display_name": "Python 3",
   "language": "python",
   "name": "python3"
  },
  "language_info": {
   "codemirror_mode": {
    "name": "ipython",
    "version": 3
   },
   "file_extension": ".py",
   "mimetype": "text/x-python",
   "name": "python",
   "nbconvert_exporter": "python",
   "pygments_lexer": "ipython3",
   "version": "3.12.2"
  }
 },
 "nbformat": 4,
 "nbformat_minor": 2
}
