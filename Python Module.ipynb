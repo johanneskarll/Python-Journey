{
 "cells": [
  {
   "cell_type": "markdown",
   "metadata": {},
   "source": [
    "# **Python Module**\n",
    "## *Module Built in Python*\n",
    "### Module datetime"
   ]
  },
  {
   "cell_type": "code",
   "execution_count": 17,
   "metadata": {},
   "outputs": [
    {
     "name": "stdout",
     "output_type": "stream",
     "text": [
      "2024\n",
      "Monday\n",
      "2005-04-06 00:00:00\n"
     ]
    }
   ],
   "source": [
    "import datetime as dt\n",
    "now = dt.datetime.now()\n",
    "tahun_ini = now.year\n",
    "hari_mingguini = now.strftime('%A')\n",
    "print(tahun_ini)\n",
    "print(hari_mingguini)\n",
    "specificdate = dt.datetime(year=2005, month=4, day=6)\n",
    "print(specificdate)"
   ]
  },
  {
   "cell_type": "markdown",
   "metadata": {},
   "source": []
  },
  {
   "cell_type": "markdown",
   "metadata": {},
   "source": [
    "### Module time (berbeda dengan datetime)\n",
    "##### module ini mensupport waktu lokal, sementara datetime hanya mensupport UTC. Selain itu time juga memungkinkan kita menghitung berapa lama suatu program/fungsi dieksekusi, sementara datetime hanya untuk dates(hari) dan times(jam/menit/detik)\n",
    "        "
   ]
  },
  {
   "cell_type": "code",
   "execution_count": 18,
   "metadata": {},
   "outputs": [],
   "source": [
    "import time\n",
    "starttime = time.time()\n",
    "#ini programnnya\n",
    "endtime = time.time()\n",
    "executiontime = endtime - starttime\n",
    "\n",
    "time.sleep(5) # untuk mempause/menghentikan program selama berapa waktu"
   ]
  },
  {
   "cell_type": "markdown",
   "metadata": {},
   "source": [
    "### Module os"
   ]
  },
  {
   "cell_type": "code",
   "execution_count": null,
   "metadata": {},
   "outputs": [],
   "source": [
    "import os\n",
    "os.system('cls')\n",
    "os.system(\"clear\")"
   ]
  },
  {
   "cell_type": "markdown",
   "metadata": {},
   "source": [
    "### Module string"
   ]
  },
  {
   "cell_type": "code",
   "execution_count": null,
   "metadata": {},
   "outputs": [],
   "source": [
    "import string\n",
    "string.ascii"
   ]
  },
  {
   "cell_type": "markdown",
   "metadata": {},
   "source": [
    "### Module random"
   ]
  },
  {
   "cell_type": "code",
   "execution_count": 20,
   "metadata": {},
   "outputs": [
    {
     "name": "stdout",
     "output_type": "stream",
     "text": [
      "remon\n",
      "3\n"
     ]
    }
   ],
   "source": [
    "import random\n",
    "a_list = [\"james\",\"karl\",\"remon\",\"celine\",]\n",
    "print(random.choice(a_list))\n",
    "print(random.randint(1,5))\n"
   ]
  },
  {
   "cell_type": "markdown",
   "metadata": {},
   "source": [
    "### Module collections"
   ]
  },
  {
   "cell_type": "code",
   "execution_count": null,
   "metadata": {},
   "outputs": [],
   "source": [
    "from collections import Counter\n",
    "Counter(data)"
   ]
  },
  {
   "cell_type": "markdown",
   "metadata": {},
   "source": [
    "### Module csv"
   ]
  },
  {
   "cell_type": "code",
   "execution_count": 21,
   "metadata": {},
   "outputs": [
    {
     "name": "stdout",
     "output_type": "stream",
     "text": [
      "['day', 'temp', 'condition']\n",
      "['Monday', '12', 'Sunny']\n",
      "['Tuesday', '14', 'Rain']\n",
      "['Wednesday', '15', 'Rain']\n",
      "['Thursday', '14', 'Cloudy']\n",
      "['Friday', '21', 'Sunny']\n",
      "['Saturday', '22', 'Sunny']\n",
      "['Sunday', '24', 'Sunny']\n"
     ]
    }
   ],
   "source": [
    "import csv\n",
    "with open (\"wd_for_notes.csv\") as file:\n",
    "    variabel = csv.reader(file)\n",
    "    for row in variabel: print(row)"
   ]
  },
  {
   "cell_type": "markdown",
   "metadata": {},
   "source": [
    "### Module smtplib (Email SMTP)"
   ]
  },
  {
   "cell_type": "code",
   "execution_count": null,
   "metadata": {},
   "outputs": [],
   "source": [
    "import smtplib\n",
    "with smtplib.SMTP(\"smtp.gmail.com\", 587) as connection:\n",
    "        connection.starttls() # ini supaya pesan kita terenkripsi dan aman\n",
    "        connection.login(user=my_gmail, password=password)\n",
    "        with open(\"./18. Birthday Wisher (SMTP+DT)/quotes.txt\") as quotes:\n",
    "            listquotes = quotes.readlines()\n",
    "            connection.sendmail(\n",
    "                from_addr=my_gmail,\n",
    "                to_addrs=\"johanneskarl50@gmail.com\", \n",
    "                msg=f\"Subject:Hey it's Monday here is your quotes \\n\\n{random.choice(listquotes)}\"\n",
    "        )"
   ]
  },
  {
   "cell_type": "markdown",
   "metadata": {},
   "source": [
    "## *Module dari luar Python*"
   ]
  },
  {
   "cell_type": "markdown",
   "metadata": {},
   "source": [
    "### Module numpy(array)"
   ]
  },
  {
   "cell_type": "markdown",
   "metadata": {},
   "source": [
    "#### Operasi Perhitungan\n",
    "##### Pangkat -> untuk sebuah array kita bisa memangkatkan setiap valuenya langsung tidak seperti list"
   ]
  },
  {
   "cell_type": "code",
   "execution_count": 25,
   "metadata": {},
   "outputs": [
    {
     "name": "stdout",
     "output_type": "stream",
     "text": [
      "[ 1  4  9 16]\n",
      "list * 2 = [1, 2, 3, 4, 1, 2, 3, 4]\n",
      "vector * 2 = [2 4 6 8]\n"
     ]
    }
   ],
   "source": [
    "import numpy as np\n",
    "vector = np.array([1,2,3,4])\n",
    "print(vector**2)\n",
    "\n",
    "lists = [1,2,3,4]\n",
    "print(f\"list * 2 = {lists*2}\")\n",
    "print(f\"vector * 2 = {vector*2}\")\n"
   ]
  },
  {
   "cell_type": "markdown",
   "metadata": {},
   "source": [
    "### Module requests\n",
    "##### Module ini memungkinkan kita untuk berinteraksi dengan menggunakan internet (bisa berupa file html/api dari luar) yang outputnya berupa dict/json"
   ]
  },
  {
   "cell_type": "code",
   "execution_count": null,
   "metadata": {},
   "outputs": [],
   "source": [
    "response = requests.get(url=\"https://blablablabla.com/api.php\")\n",
    "print(response)\n",
    "data = response.json()\n",
    "request.post() # memberikan data ke external service\n",
    "request.put() # update\n",
    "request.delete() # delete\n",
    "\n",
    "#untuk website\n",
    "data = response.text"
   ]
  },
  {
   "cell_type": "markdown",
   "metadata": {},
   "source": [
    "### Module bs4 (Beautiful Soup)\n",
    "##### bs digunakan untuk web scraping atau mengikis/mengambil informasi dari web pages (html atau xml)"
   ]
  },
  {
   "cell_type": "markdown",
   "metadata": {},
   "source": [
    "#### Class BeautifulSoup() "
   ]
  },
  {
   "cell_type": "code",
   "execution_count": null,
   "metadata": {},
   "outputs": [],
   "source": [
    "from bs4 import BeautifulSoup\n",
    "soup = BeautifulSoup(text, 'html.parser' atau 'lxml')"
   ]
  },
  {
   "cell_type": "markdown",
   "metadata": {},
   "source": [
    "text disini adalah python open file.read yang disimpan ke variabel bernama text. jika menggunakan lxml harus import lxml.\n",
    "objek soup sekarang sudah mewakili html sehingga jika kita print(soup) outputnya adalah text html itu sendiri, bahkan jika kita menggunakan atribut seperti ini"
   ]
  },
  {
   "cell_type": "markdown",
   "metadata": {},
   "source": [
    "### soup.prettify()\n",
    "    ini akan memberikan indentasi pada text html kita.\n",
    "\n",
    "### soup.title / soup.title.string\n",
    "    untuk melihat title dari html page. \n",
    "\n",
    "### soup.a / soup.p / soup.li\n",
    "    untuk mendapatkan a(anchor) atau p(paragraf) atau li(list) pertama dalam file html\n",
    "\n",
    "### soup.find_all(\"elemennya\")\n",
    "    berbeda dengan soup.a/soup.h3 dan lainnya yang hanya mengeluarkan elemen pertamanya saja\n",
    "    find_all akan mengeluarkan semua elemennya dalam bentuk list.\n",
    "    \n",
    "    jika kita hanya menginginkan isinya saja, kita bisa membuatnya seperti ini\n",
    "    all_anchor_tags = soup.find_all(name=\"a\")\n",
    "    for tag in all_anchor_tags:\n",
    "        pirnt(tag.getText())\n",
    "\n",
    "    sementara jika kita hanya ingin linknya saja\n",
    "    for tag in all_anchor_tags:\n",
    "        print(tag.get(\"href\"))\n",
    "\n",
    "    soup.find(name=\"elemen\", id=\"namaidnya\" atau class_=\"namaclassnya\")\n",
    "    digunakan untuk mencari tag yang spesifik.\n",
    "\n",
    "### soup.select / soup.select_one(selector=\"p a\")\n",
    "    mirip find diatas namun perbedaannya find menggunakan elemen + id/class sebagai pembeda, sementara\n",
    "    select seperti css selector disini mengambil elemen yang berada didalam elemen lainnya\n",
    "    contoh jika menggunakan find dan select:\n",
    "        sf = soup.find('h1', id='name') -> tipenya = <class 'bs4.element.Tag'>\n",
    "        sso = soup.select_one('h1, #name') -> tipenya = <class 'bs4.element.Tag'>\n",
    "        ss = soup.select('h1, #name') -> tipenya = <class 'bs4.element.ResultSet'>\n",
    "    soup.select akan mereturn dalam bentuk list.\n",
    "\n",
    "Penggunaan select/find tergantung posisi informasi yang ingin kita ambil apakah memerlukan penggunaan css selector, jika tidak\n",
    "kita cukup menggunakan find saja.\n",
    "\n",
    "contoh diatas p a artinya elemen a (anchor) yang berada didalam p(paragraf)\n",
    "jika kita ingin idnya maka gunakan #namaidnya, kemudian kalau class gunakan .namaclassnya"
   ]
  },
  {
   "cell_type": "markdown",
   "metadata": {},
   "source": [
    "### Module selenium -> ga perlu requests\n",
    "##### selenium digunakan untuk otomatisasi interaksi web browser dengan python.Perbedaanya dengan beautifulsoup akan menyulitkan jika website tersebut di render menggunakan js/react/angular dan akan memakan waktu yang lama meskipun BS lebih cepat untuk beberapa bahasa pemrograman."
   ]
  },
  {
   "cell_type": "markdown",
   "metadata": {},
   "source": [
    "#### Class webdriver()\n",
    "##### Setiap browser memiliki constructor yang berbeda ketika dipanggil untuk Chrome => driver = webdriver.Chrome()"
   ]
  },
  {
   "cell_type": "code",
   "execution_count": null,
   "metadata": {},
   "outputs": [],
   "source": [
    "from selenium import webdriver\n",
    "from selenium.webdriver.chrome.options import Options\n",
    "driver = webdriver.Chrome()\n",
    "chrome_opt = Options()\n",
    "chrome_opt.add_experimental_option(\"detach\", True)\n",
    "# setting \"detach\" parameter menjadi true akan menjaga browser tetap terbuka \n",
    "# bahkan setelah prosesnya telah selesai, selama quitnya ga disend ke driver."
   ]
  },
  {
   "cell_type": "markdown",
   "metadata": {},
   "source": [
    "##### Mengakses website yang kita mau tanpa perlu menggunakan request  "
   ]
  },
  {
   "cell_type": "code",
   "execution_count": null,
   "metadata": {},
   "outputs": [],
   "source": [
    "driver.get(\"https://www.linknya.com\")"
   ]
  },
  {
   "cell_type": "markdown",
   "metadata": {},
   "source": [
    "##### Membuka tab baru / window baru (Terdapat banyak cara untuk membuka dan berpindah tab salah satunya dibawah ini)"
   ]
  },
  {
   "cell_type": "code",
   "execution_count": null,
   "metadata": {},
   "outputs": [],
   "source": [
    "driver.switch_to.new_window('tab') # ini untuk tab\n",
    "driver.switch_to.new_window('window')\n",
    "\n",
    "# Berpindah tab\n",
    "driver.switch_to.window(driver.window_handles[0])\n",
    "#angka 0 berarti tab pertama, 1 berarti tab kedua dst. "
   ]
  },
  {
   "cell_type": "markdown",
   "metadata": {},
   "source": [
    "##### untuk menentukan seberapa besar window yang terbuka, mengingat pada website sekarang ini flexible dan bisa jadi komponennya berubah dan tidak menentu tergantung tab sizenya"
   ]
  },
  {
   "cell_type": "code",
   "execution_count": null,
   "metadata": {},
   "outputs": [],
   "source": [
    "driver.set_window_size(1080,800)"
   ]
  },
  {
   "cell_type": "code",
   "execution_count": null,
   "metadata": {},
   "outputs": [],
   "source": [
    "driver.close() #close the active tab particular page\n",
    "driver.quit() # quit the entire browser/program"
   ]
  },
  {
   "cell_type": "markdown",
   "metadata": {},
   "source": [
    "#### Class By()\n",
    "##### Selanjutnya kita akan membahas mengenai atribut apa saja yang dapat digunakan untuk membantu kita scraping"
   ]
  },
  {
   "cell_type": "code",
   "execution_count": null,
   "metadata": {},
   "outputs": [],
   "source": [
    "from selenium.webdriver.common.by import By\n",
    "variabel = driver.find_element(By.contoh, value = \"ini valuenya\")"
   ]
  },
  {
   "cell_type": "markdown",
   "metadata": {},
   "source": [
    "##### 'contoh' diatas dapat diganti sebagai berikut: \n",
    "* untuk mencari class -> By.CLASS_NAME\n",
    "* untuk mencari nama -> By.NAME\n",
    "* untuk mencari ID -> By.ID\n",
    "* untuk mencari sesuatu yang spesifik -> By.CSS_SELECTOR , kemudian valuenya seperti penggunaan css.\n",
    "* untuk mencari sesuatu yang spesifik cara 2 -> By.XPATH , cari terlebih dahulu tag elemen yang kita inginkan kemudian klik kanan copy XPATH"
   ]
  },
  {
   "cell_type": "markdown",
   "metadata": {},
   "source": [
    "Setelah kita membuat variabel kita dapat menggunakannya sebagai berikut\n",
    "* variabel.text -> untuk mengeluarkan value dari tag tersebut \n",
    "* variabel.size -> memberi tahu ukuran tag elemen tersebut.\n",
    "* variabel.screenshot(filename = \"\") -> untuk mengambil gambar dari tag elemen tersebut pada tampilan web\n",
    "* variabel.click() -> memungkinkan kita untuk mengclick tag elemen yang dimaksud\n",
    "* variabel.send_keys(\"input\") -> memungkinkan kita untuk memasukkan kedalam <input#> elemen"
   ]
  },
  {
   "cell_type": "markdown",
   "metadata": {},
   "source": [
    "##### kita juga dapat mengetahui atribut lainnya yang terkandung dalam suatu tag html\n",
    "    variabel.get_attribute(\"atribut\")\n",
    "    misalkan terdapat tag element sebagai berikut:\n",
    "    <div class=\"price\" data-testid=\"lblPDPDetailProductPrice\">Rp21.687.000</div>\n",
    "dengan memasukkan data-testid kedalam 'atribut' kita bisa mengetahui valuenya.\n",
    "\n",
    "selain itu fitur lainnya adalah kita dapat mengetahui apa jenis tag elemen yang terkandung\n",
    "varibel.tag_name\n",
    "    jika menggunakan contoh yang sama seperti diatas maka outputnya adalah string 'div'."
   ]
  },
  {
   "cell_type": "markdown",
   "metadata": {},
   "source": [
    "#### Class Keys()\n",
    "##### Kita dapat memasukkan perintah seolah program dapat menggunakan keyboard, sehingga nantinya program akan memasukkan input seperti Enter, Arrowup, dll)"
   ]
  },
  {
   "cell_type": "code",
   "execution_count": null,
   "metadata": {},
   "outputs": [],
   "source": [
    "from selenium.webdriver.common.keys import Keys\n",
    "variabel.send_keys(Keys.namakey)\n",
    "# namakey dapat berupa \n",
    "#(ENTER, ARROWUP, SHIFT, dll) dan nanti akan dieksekusi"
   ]
  },
  {
   "cell_type": "markdown",
   "metadata": {},
   "source": [
    "### Framework Flask\n",
    "##### logikanya rada beda dengan library biasanya, contoh dalam kode request.get(\"https://google.com/\") disini kita meminta dari library requests untuk meminta ke https yang kita berikan, namun kalau framework lebih kepada kita menyiapkan kode kemudian framework tersebut yang 'memanggil' kita.\n",
    "\n",
    "##### Untuk menggunakan framework ini dianjurkan untuk bikin venv atau virtual environment trus install flasknya dienvironment itu setelah itu baru kita  'run' kode dibawah ini. apabila diterminal sudah depannya terdapat (.venv) baru kita bisa set FLASK_APP=namafile.py terus baru flask --app namafile run"
   ]
  },
  {
   "cell_type": "code",
   "execution_count": null,
   "metadata": {},
   "outputs": [],
   "source": [
    "from flask import Flask\n",
    "\n",
    "app = Flask(__name__)\n",
    "\n",
    "@app.route(\"/\") # ini adalah python decorator yang menunjukkan routenya dan function apa yang keluar ketika user mengunjungi sites tersebut.\n",
    "def hello_world():\n",
    "    return \"<p>Hello, World!</p>\""
   ]
  },
  {
   "cell_type": "markdown",
   "metadata": {},
   "source": [
    "##### Code diatas adalah basic/bentuk dasar untuk kita menggunakan flask\n",
    "##### **app.route(\"/\")**\n",
    "    Ini adalah python decorator yang tujuannya untuk memberi tahu program route apa yang dituju dan function apa yang direturn untuk mengeluarkan htmlnya."
   ]
  },
  {
   "cell_type": "markdown",
   "metadata": {},
   "source": [
    "##### Untuk mempermudah kita tanpa harus menulis \"flask run\" diterminal dan membuat FLASK_APP sebagai environment variable. Baris kode dibawah ini memberi tahu bahwa program yang dijalankan berasal dari module ini di dalam file ini."
   ]
  },
  {
   "cell_type": "code",
   "execution_count": null,
   "metadata": {},
   "outputs": [],
   "source": [
    "if __name__ == \"__main__\":\n",
    "    app.run()"
   ]
  },
  {
   "cell_type": "markdown",
   "metadata": {},
   "source": [
    "##### Kita dapat merubah route dari suatu function dan memasukkan suatu variabel kedalamnya sehingga apapun yang dimasukkan setelah tanda kurung name (https://127.0.0.1:5000/username/karl) akan menjadi variable bagi fungsi tersebut."
   ]
  },
  {
   "cell_type": "code",
   "execution_count": null,
   "metadata": {},
   "outputs": [],
   "source": [
    "@app.route(\"/username/<name>\") # dengan menggunakan <> \n",
    "def greet(name):\n",
    "    return f\"Hello {name}!\""
   ]
  },
  {
   "cell_type": "markdown",
   "metadata": {},
   "source": [
    "#### Jinja2\n",
    "##### Mesin template ini memungkinkan kita untuk merender template karena jika tanpa jinja kita harus memasukkan semua string html kita kedalam return, namun karena adanya jinja kita bisa memberikan file html sebagai return alih2 memberikan tag html kedalam return. Hal yang perlu disiapkan adalah satu folder beri nama \"templates\" kemudian didalam folder tersebut berisi file html kita.\n",
    "\n",
    "##### **Template**\n",
    "##### File html yang ingin kita render harus dimasukkan kedalam folder bernama 'templates'"
   ]
  },
  {
   "cell_type": "code",
   "execution_count": null,
   "metadata": {},
   "outputs": [],
   "source": [
    "from flask import render_template\n",
    "app = Flask(__name__)\n",
    "@app.route(\"/\")\n",
    "def hello():\n",
    "    return render_template(\"index.html\")"
   ]
  },
  {
   "cell_type": "markdown",
   "metadata": {},
   "source": [
    "##### **Static**\n",
    "##### begitu juga dengan static file seperti css, javascript file, image dan lain lain. Untuk menggunakannya kita perlu memasukkan file tersebut kedalam folder bernama static."
   ]
  },
  {
   "cell_type": "markdown",
   "metadata": {},
   "source": [
    "##### **{{ Python Syntax }}**\n",
    "##### Fitur lainnya adalah kita dapat memasukkan *syntax* python kedalam html file kita dengan menggunakan kurung."
   ]
  },
  {
   "cell_type": "code",
   "execution_count": null,
   "metadata": {},
   "outputs": [],
   "source": [
    "<html lang=\"en\">\n",
    "<head>\n",
    "    <meta charset=\"UTF-8\">\n",
    "    <meta name=\"viewport\" content=\"width=device-width, initial-scale=1.0\">\n",
    "    <title>My Blog</title>\n",
    "</head>\n",
    "<body>\n",
    "    <h1>Tanpa Python Syntax 5*6</h1>\n",
    "    <h1>Menggunakan Syntax Python {{5*6}}</h1>\n",
    "</body>\n",
    "</html>"
   ]
  },
  {
   "cell_type": "markdown",
   "metadata": {},
   "source": [
    "##### ketika flask berjalan dan suatu html dirender, tag seperti h1 akan dirender sebagai h1 yaitu tulisan akan tetapi jika kita memberikan {{ }}maka yang didalam tanda kurung tersebut akan dianggap sebagai python code.\n"
   ]
  },
  {
   "cell_type": "code",
   "execution_count": null,
   "metadata": {},
   "outputs": [],
   "source": [
    "{% for i in range(10): %}\n",
    "    <a>{{ print(i) }}</a>\n",
    "{% endfor %}"
   ]
  },
  {
   "cell_type": "markdown",
   "metadata": {},
   "source": [
    "##### Untuk for ataupun if kita menggunakan %"
   ]
  },
  {
   "cell_type": "markdown",
   "metadata": {},
   "source": [
    "##### **Menggunakan Module Python**\n",
    "##### Kita dapat menggunakan module python dan memasukkannya kedalam file html kita dengan mengirimnya dalam bentuk variabel/syntax melalui jinja"
   ]
  },
  {
   "cell_type": "code",
   "execution_count": null,
   "metadata": {},
   "outputs": [],
   "source": [
    "from flask import Flask, render_template\n",
    "import random\n",
    "\n",
    "app = Flask(__name__)\n",
    "\n",
    "@app.route(\"/\")\n",
    "def home():\n",
    "    random_number = random.randint(1,10) \n",
    "    return render_template(\"index.html\", num=random_number)\n",
    "\n",
    "if __name__ == \"__main__\":\n",
    "    app.run(debug=True)"
   ]
  },
  {
   "cell_type": "markdown",
   "metadata": {},
   "source": [
    "##### **{% include 'headerfooter.html' %}**\n",
    "##### Fitur lainnya adalah kita dapat memasukkan syntax html yang berulang tanpa kita harus mengcodenya lagi. Ini seperti **menempelkan** file html satu dengan lainnya, sebagai contoh setiap halaman website kita memiliki header dan footer yang sama tanpa kita harus membuat/menyalin header dan footernya lagi kedalam masing-masing html kita dapat menggunakan include ini."
   ]
  },
  {
   "cell_type": "code",
   "execution_count": null,
   "metadata": {},
   "outputs": [],
   "source": [
    "{% include 'header.html' %}\n",
    "# isi body html\n",
    "{% include 'footer.html' %}  "
   ]
  },
  {
   "cell_type": "markdown",
   "metadata": {},
   "source": [
    "#### Flask -> flask_wtf module\n",
    "##### Dalam HTML kita dapat menggunakan <form#> dan <input#> untuk membuat 'form' yang dapat user isi kemudian kita mendapatkan returnnya. Hal yang sama dapat kita buat menggunakan module flask_wtf, kita perlu menginstallnya terlebih dahulu untuk menggunakannya. \n",
    "\n",
    "##### **FlaskForm**\n",
    "##### Menggunakan flaskform akan mempermudah pembuatan form, beberapa class yang dapat kita pakai adalah StringField, PasswordField, dsb. Dengan menggunakan class ini kita tidak perlu menspesifikasikan banyak hal seperti jika user input password kita tidak perlu mensetting agar passowrd tersebut tidak visible (*) dan kita dengan mudah membuat beberapa syarat input untuk user seperti email harus terdapat (@ dan .)"
   ]
  },
  {
   "cell_type": "code",
   "execution_count": null,
   "metadata": {},
   "outputs": [],
   "source": [
    "from flask import Flask, render_template\n",
    "from flask_wtf import FlaskForm\n",
    "from wtforms import StringField,PasswordField, SubmitField\n",
    "from wtforms.validators import DataRequired, Email, InputRequired, Length\n",
    "\n",
    "class MyForm(FlaskForm):\n",
    "    email = StringField(label='Email', validators=[DataRequired(), Email()])\n",
    "    password = PasswordField(label='Password', validators=[DataRequired(), InputRequired(), Length(min= 8)])\n",
    "    submit = SubmitField(label='Log in')\n",
    "\n",
    "app = Flask(__name__)\n",
    "app.secret_key = \"some secret string\"\n",
    "\n",
    "@app.route(\"/\")\n",
    "def home():\n",
    "    return render_template('index.html')\n",
    "\n",
    "@app.route(\"/login\", methods=[\"GET\", \"POST\"])\n",
    "def login():\n",
    "    LoginForm = MyForm()\n",
    "    if LoginForm.validate_on_submit():\n",
    "        if (LoginForm.email.data == \"admin@email.com\" and LoginForm.password.data == \"12345678\"):\n",
    "            # @app.route(\"/success\")\n",
    "            # def success():\n",
    "                return render_template('success.html')\n",
    "        else :\n",
    "            # @app.route(\"/denied\")\n",
    "            # def denied():\n",
    "                return render_template('denied.html')\n",
    "    return render_template('login.html', form=LoginForm)\n",
    "\n",
    "\n",
    "\n",
    "if __name__ == '__main__':\n",
    "    app.run(debug=True)\n"
   ]
  },
  {
   "cell_type": "code",
   "execution_count": null,
   "metadata": {},
   "outputs": [],
   "source": [
    "<!DOCTYPE HTML>\n",
    "<html>\n",
    "\t<head>\n",
    "\t\t<title>Login</title>\n",
    "\t</head>\n",
    "\t<body>\n",
    "\t\t<div class=\"container\">\n",
    "\t\t\t<h1>Login</h1>\n",
    "\t\t\t<!-- This is where our form will go. -->\n",
    "\t\t\t<form method=\"POST\" action=\"{{ url_for('login') }}\" novalidate>\n",
    "\t\t\t\t{{ form.csrf_token }}\n",
    "\n",
    "\t\t\t<p>\t{{ form.email.label }} <br> {{ form.email(size=30) }}\n",
    "\t\t\t\t{% for err in form.email.errors %}\n",
    "\t\t\t\t<span style=\"color:red\">{{ err }}</span>\n",
    "\t\t\t\t{% endfor %}\n",
    "\t\t\t</p>\n",
    "\n",
    "\t\t\t<p>\t{{ form.password.label }} <br> {{ form.password(size=30) }}\n",
    "\t\t\t\t{% for err in form.password.errors %}\n",
    "\t\t\t\t<span style=\"color:red\">{{ err }}</span>\n",
    "\t\t\t\t{% endfor %}\n",
    "\t\t\t</p>\n",
    "\t\t\t\t{{ form.submit }}\n",
    "\t\t\t</form>\n",
    "        </div>\n",
    "\t</body>\n",
    "</html>"
   ]
  },
  {
   "cell_type": "markdown",
   "metadata": {},
   "source": []
  }
 ],
 "metadata": {
  "kernelspec": {
   "display_name": "Python 3",
   "language": "python",
   "name": "python3"
  },
  "language_info": {
   "name": "python",
   "version": "3.12.2"
  }
 },
 "nbformat": 4,
 "nbformat_minor": 2
}
